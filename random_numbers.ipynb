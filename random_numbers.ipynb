{
 "cells": [
  {
   "cell_type": "code",
   "execution_count": 6,
   "id": "fc1c0e85",
   "metadata": {},
   "outputs": [],
   "source": [
    "import random"
   ]
  },
  {
   "cell_type": "code",
   "execution_count": 7,
   "id": "e6480aff",
   "metadata": {},
   "outputs": [
    {
     "data": {
      "text/plain": [
       "1"
      ]
     },
     "execution_count": 7,
     "metadata": {},
     "output_type": "execute_result"
    }
   ],
   "source": [
    "random.randint(-90,90)\n",
    "\n",
    "#get a single integer between -90 and 90 because we need two latitudes between -90 and 90.\n"
   ]
  },
  {
   "cell_type": "code",
   "execution_count": 8,
   "id": "174c3d3a",
   "metadata": {},
   "outputs": [
    {
     "data": {
      "text/plain": [
       "0.1876564612394256"
      ]
     },
     "execution_count": 8,
     "metadata": {},
     "output_type": "execute_result"
    }
   ],
   "source": [
    "#Random Function gets a single floating point decimal between 0 and 1.0\n",
    "\n",
    "random.random()"
   ]
  },
  {
   "cell_type": "code",
   "execution_count": 9,
   "id": "f1365dea",
   "metadata": {},
   "outputs": [
    {
     "data": {
      "text/plain": [
       "-55.37676692929979"
      ]
     },
     "execution_count": 9,
     "metadata": {},
     "output_type": "execute_result"
    }
   ],
   "source": [
    "#Combining the two functions can help return latitude and longitude numbers\n",
    "\n",
    "random_number = random.randint(-90,89)+random.random()\n",
    "random_number"
   ]
  },
  {
   "cell_type": "code",
   "execution_count": 13,
   "id": "39cf60e5",
   "metadata": {},
   "outputs": [
    {
     "data": {
      "text/plain": [
       "[69.75092172164408,\n",
       " 68.55211838049418,\n",
       " 35.95950304547817,\n",
       " -15.530721258961893,\n",
       " 79.00035571290267,\n",
       " 76.25942737640392,\n",
       " -15.6716382094772,\n",
       " -47.26844108968249,\n",
       " 10.579146558270528,\n",
       " -74.80710361228563]"
      ]
     },
     "execution_count": 13,
     "metadata": {},
     "output_type": "execute_result"
    }
   ],
   "source": [
    "x = 1\n",
    "latitudes = []\n",
    "while x < 11:\n",
    "    random_lat = random.randint(-90, 89) + random.random()\n",
    "    latitudes.append(random_lat)\n",
    "    x += 1\n",
    "latitudes\n",
    "\n",
    "#In the code block above, we:\n",
    "\n",
    "#Assign the variable x to 1.\n",
    "#Initialize an empty list, latitudes.\n",
    "#We create a while loop where we generate a random latitude and add it to the list.\n",
    "#After the random latitude is added to the list we add one to the variable \"x\".\n",
    "#The while loop condition is checked again and will continue to run as long as x is less than 11."
   ]
  },
  {
   "cell_type": "code",
   "execution_count": 14,
   "id": "ba649a43",
   "metadata": {},
   "outputs": [
    {
     "data": {
      "text/plain": [
       "55"
      ]
     },
     "execution_count": 14,
     "metadata": {},
     "output_type": "execute_result"
    }
   ],
   "source": [
    "random.randrange(-90,90, step=1)\n",
    "\n",
    "#Helps obtain longitude numbers "
   ]
  },
  {
   "cell_type": "code",
   "execution_count": 15,
   "id": "4c715b1e",
   "metadata": {},
   "outputs": [
    {
     "data": {
      "text/plain": [
       "-42"
      ]
     },
     "execution_count": 15,
     "metadata": {},
     "output_type": "execute_result"
    }
   ],
   "source": [
    "random.randrange(-90,90, step=3)"
   ]
  },
  {
   "cell_type": "code",
   "execution_count": 16,
   "id": "ce13183b",
   "metadata": {},
   "outputs": [
    {
     "data": {
      "text/plain": [
       "-35.51646897993513"
      ]
     },
     "execution_count": 16,
     "metadata": {},
     "output_type": "execute_result"
    }
   ],
   "source": [
    "#Uniform function will allow us to generate a floating-point decimal number between two given numbers inside the parentheses\n",
    "\n",
    "random.uniform(-90,90)"
   ]
  },
  {
   "cell_type": "code",
   "execution_count": 17,
   "id": "a8e6d644",
   "metadata": {},
   "outputs": [],
   "source": [
    "# Import the NumPy module.\n",
    "import numpy as np"
   ]
  },
  {
   "cell_type": "code",
   "execution_count": 18,
   "id": "ce9bbfcf",
   "metadata": {},
   "outputs": [
    {
     "data": {
      "text/plain": [
       "83.54766177870371"
      ]
     },
     "execution_count": 18,
     "metadata": {},
     "output_type": "execute_result"
    }
   ],
   "source": [
    "np.random.uniform(-90.000, 90.000)\n",
    "#Another option is to write the parameters as np.random.uniform(low=-90, high=90)"
   ]
  },
  {
   "cell_type": "code",
   "execution_count": 19,
   "id": "69536e02",
   "metadata": {},
   "outputs": [
    {
     "data": {
      "text/plain": [
       "array([  2.97914175,  10.07003637, -50.12016536,  22.28318293,\n",
       "        50.2028649 ,  50.17799629,  78.20840984,  86.1339352 ,\n",
       "        77.47551098,  11.01916403,  23.17837102,  77.53762333,\n",
       "       -52.77064521, -50.32342741,  31.22132361,  14.9499968 ,\n",
       "       -77.79641219,  36.18985264, -40.88768971,  26.42450272,\n",
       "         1.85835519,  46.89915037, -80.93568633, -86.64205453,\n",
       "       -51.37137797,  -1.59435153,  30.12374098,  32.62323252,\n",
       "       -50.70177168, -82.50695239,  65.89224322, -53.50899048,\n",
       "       -21.35843386, -32.21697878, -66.2725052 ,  80.8645295 ,\n",
       "       -22.65309409,  71.64967151, -82.84944662,  27.05605157,\n",
       "        50.98008168,  59.40783703, -25.10470813,  -6.17216421,\n",
       "       -42.41443936, -23.0567623 , -61.21525331,  69.2645176 ,\n",
       "       -38.74547767,  40.04518814])"
      ]
     },
     "execution_count": 19,
     "metadata": {},
     "output_type": "execute_result"
    }
   ],
   "source": [
    "#o generate more than one floating-point decimal number between -90 and 90, we can add the size parameter when we use the NumPy module and set that equal to any whole number\n",
    "np.random.uniform(-90.000, 90.000, size=50)"
   ]
  },
  {
   "cell_type": "code",
   "execution_count": 20,
   "id": "b802c550",
   "metadata": {},
   "outputs": [],
   "source": [
    "# Import timeit.\n",
    "import timeit"
   ]
  },
  {
   "cell_type": "code",
   "execution_count": 21,
   "id": "0793ad4a",
   "metadata": {},
   "outputs": [
    {
     "name": "stdout",
     "output_type": "stream",
     "text": [
      "12.4 µs ± 71.3 ns per loop (mean ± std. dev. of 7 runs, 100000 loops each)\n"
     ]
    }
   ],
   "source": [
    "%timeit np.random.uniform(-90.000, 90.000, size=1500)"
   ]
  },
  {
   "cell_type": "code",
   "execution_count": 22,
   "id": "a410511a",
   "metadata": {},
   "outputs": [
    {
     "name": "stdout",
     "output_type": "stream",
     "text": [
      "1.51 ms ± 11.9 µs per loop (mean ± std. dev. of 7 runs, 1000 loops each)\n"
     ]
    }
   ],
   "source": [
    "def latitudes(size):\n",
    "    latitudes = []\n",
    "    x = 0\n",
    "    while x < (size):\n",
    "        random_lat = random.randint(-90, 90) + random.random()\n",
    "        latitudes.append(random_lat)\n",
    "        x += 1\n",
    "    return latitudes\n",
    "# Call the function with 1500.\n",
    "%timeit latitudes(1500)"
   ]
  },
  {
   "cell_type": "code",
   "execution_count": 23,
   "id": "7ba05e61",
   "metadata": {},
   "outputs": [],
   "source": [
    "#Using the np.random.uniform(-90.000, 90.000, size=1500) is 100 times faster than using the function, and our code is one line, whereas the function uses eight lines!"
   ]
  },
  {
   "cell_type": "code",
   "execution_count": null,
   "id": "2d87d8b7",
   "metadata": {},
   "outputs": [],
   "source": []
  }
 ],
 "metadata": {
  "kernelspec": {
   "display_name": "PythonData",
   "language": "python",
   "name": "pythondata"
  },
  "language_info": {
   "codemirror_mode": {
    "name": "ipython",
    "version": 3
   },
   "file_extension": ".py",
   "mimetype": "text/x-python",
   "name": "python",
   "nbconvert_exporter": "python",
   "pygments_lexer": "ipython3",
   "version": "3.7.13"
  }
 },
 "nbformat": 4,
 "nbformat_minor": 5
}
